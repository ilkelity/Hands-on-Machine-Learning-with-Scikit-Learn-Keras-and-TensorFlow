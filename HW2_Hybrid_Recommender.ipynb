{
  "nbformat": 4,
  "nbformat_minor": 0,
  "metadata": {
    "colab": {
      "name": "HW2-Hybrid Recommender",
      "provenance": [],
      "collapsed_sections": [],
      "authorship_tag": "ABX9TyPSn61qNIHZKOcJweTPZuWI",
      "include_colab_link": true
    },
    "kernelspec": {
      "name": "python3",
      "display_name": "Python 3"
    },
    "language_info": {
      "name": "python"
    }
  },
  "cells": [
    {
      "cell_type": "markdown",
      "metadata": {
        "id": "view-in-github",
        "colab_type": "text"
      },
      "source": [
        "<a href=\"https://colab.research.google.com/github/ilkelity/Hands-on-Machine-Learning-with-Scikit-Learn-Keras-and-TensorFlow/blob/master/HW2_Hybrid_Recommender.ipynb\" target=\"_parent\"><img src=\"https://colab.research.google.com/assets/colab-badge.svg\" alt=\"Open In Colab\"/></a>"
      ]
    },
    {
      "cell_type": "code",
      "metadata": {
        "id": "_y4nsocBotbR",
        "colab": {
          "base_uri": "https://localhost:8080/"
        },
        "outputId": "87bb0cb1-c551-4dd4-f6f0-4147725d397e"
      },
      "source": [
        "from google.colab import drive\n",
        "drive.mount('/content/gdrive')"
      ],
      "execution_count": 8,
      "outputs": [
        {
          "output_type": "stream",
          "text": [
            "Mounted at /content/gdrive\n"
          ],
          "name": "stdout"
        }
      ]
    },
    {
      "cell_type": "code",
      "metadata": {
        "id": "cws1qIgosrzL"
      },
      "source": [
        "import os\n",
        "os.environ['KAGGLE_CONFIG_DIR'] = \"/content/gdrive/My Drive/Kaggle\""
      ],
      "execution_count": 9,
      "outputs": []
    },
    {
      "cell_type": "code",
      "metadata": {
        "colab": {
          "base_uri": "https://localhost:8080/"
        },
        "id": "GHAdOGMVs56E",
        "outputId": "97973047-7215-4cf8-c57b-dd226d56f1db"
      },
      "source": [
        "%cd /content/gdrive/My Drive/Kaggle"
      ],
      "execution_count": 10,
      "outputs": [
        {
          "output_type": "stream",
          "text": [
            "/content/gdrive/My Drive/Kaggle\n"
          ],
          "name": "stdout"
        }
      ]
    },
    {
      "cell_type": "code",
      "metadata": {
        "colab": {
          "base_uri": "https://localhost:8080/"
        },
        "id": "6kO7mihis7ba",
        "outputId": "5c87bba2-4c3d-463d-8e47-e40bd04d5c74"
      },
      "source": [
        "!kaggle datasets download -d grouplens/movielens-20m-dataset"
      ],
      "execution_count": 11,
      "outputs": [
        {
          "output_type": "stream",
          "text": [
            "movielens-20m-dataset.zip: Skipping, found more recently modified local copy (use --force to force download)\n"
          ],
          "name": "stdout"
        }
      ]
    },
    {
      "cell_type": "code",
      "metadata": {
        "colab": {
          "base_uri": "https://localhost:8080/"
        },
        "id": "0q9fc8JNxGmW",
        "outputId": "82bd2c0a-a85c-4d3b-c03e-049524b7ea13"
      },
      "source": [
        "from google.colab import drive\n",
        "drive.mount('/content/drive')"
      ],
      "execution_count": 12,
      "outputs": [
        {
          "output_type": "stream",
          "text": [
            "Mounted at /content/drive\n"
          ],
          "name": "stdout"
        }
      ]
    },
    {
      "cell_type": "code",
      "metadata": {
        "colab": {
          "base_uri": "https://localhost:8080/"
        },
        "id": "it_S_of5vvXc",
        "outputId": "40d3abee-7e52-48ef-c40c-415eff698993"
      },
      "source": [
        "!unzip \\*.zip"
      ],
      "execution_count": 13,
      "outputs": [
        {
          "output_type": "stream",
          "text": [
            "unzip:  cannot find or open *.zip, *.zip.zip or *.zip.ZIP.\n",
            "\n",
            "No zipfiles found.\n"
          ],
          "name": "stdout"
        }
      ]
    },
    {
      "cell_type": "code",
      "metadata": {
        "colab": {
          "base_uri": "https://localhost:8080/"
        },
        "id": "8QvQQpDlvvZ4",
        "outputId": "e4cf9fe6-2a57-4335-d59a-7ca46cfb9f4d"
      },
      "source": [
        "import pandas as pd\n",
        "pd.set_option('display.max_columns', 20)\n",
        "\n",
        "movie = pd.read_csv(\"/content/drive/MyDrive/Kaggle/movie.csv\")\n",
        "movie.head()\n",
        "movie.shape"
      ],
      "execution_count": 14,
      "outputs": [
        {
          "output_type": "execute_result",
          "data": {
            "text/plain": [
              "(27278, 3)"
            ]
          },
          "metadata": {
            "tags": []
          },
          "execution_count": 14
        }
      ]
    },
    {
      "cell_type": "code",
      "metadata": {
        "colab": {
          "base_uri": "https://localhost:8080/"
        },
        "id": "8Eg72nEty25a",
        "outputId": "5a068516-75a5-4bd4-e5e7-efb6c1f4b0dd"
      },
      "source": [
        "ratings = pd.read_csv(\"/content/drive/MyDrive/Kaggle/rating.csv\")\n",
        "ratings.shape\n"
      ],
      "execution_count": 15,
      "outputs": [
        {
          "output_type": "execute_result",
          "data": {
            "text/plain": [
              "(20000263, 4)"
            ]
          },
          "metadata": {
            "tags": []
          },
          "execution_count": 15
        }
      ]
    },
    {
      "cell_type": "code",
      "metadata": {
        "colab": {
          "base_uri": "https://localhost:8080/",
          "height": 508
        },
        "id": "DhJrjjCAzVqG",
        "outputId": "32d73317-5123-4bd9-dbca-7376dc06b20e"
      },
      "source": [
        "ratings.head(15)"
      ],
      "execution_count": 16,
      "outputs": [
        {
          "output_type": "execute_result",
          "data": {
            "text/html": [
              "<div>\n",
              "<style scoped>\n",
              "    .dataframe tbody tr th:only-of-type {\n",
              "        vertical-align: middle;\n",
              "    }\n",
              "\n",
              "    .dataframe tbody tr th {\n",
              "        vertical-align: top;\n",
              "    }\n",
              "\n",
              "    .dataframe thead th {\n",
              "        text-align: right;\n",
              "    }\n",
              "</style>\n",
              "<table border=\"1\" class=\"dataframe\">\n",
              "  <thead>\n",
              "    <tr style=\"text-align: right;\">\n",
              "      <th></th>\n",
              "      <th>userId</th>\n",
              "      <th>movieId</th>\n",
              "      <th>rating</th>\n",
              "      <th>timestamp</th>\n",
              "    </tr>\n",
              "  </thead>\n",
              "  <tbody>\n",
              "    <tr>\n",
              "      <th>0</th>\n",
              "      <td>1</td>\n",
              "      <td>2</td>\n",
              "      <td>3.5</td>\n",
              "      <td>2005-04-02 23:53:47</td>\n",
              "    </tr>\n",
              "    <tr>\n",
              "      <th>1</th>\n",
              "      <td>1</td>\n",
              "      <td>29</td>\n",
              "      <td>3.5</td>\n",
              "      <td>2005-04-02 23:31:16</td>\n",
              "    </tr>\n",
              "    <tr>\n",
              "      <th>2</th>\n",
              "      <td>1</td>\n",
              "      <td>32</td>\n",
              "      <td>3.5</td>\n",
              "      <td>2005-04-02 23:33:39</td>\n",
              "    </tr>\n",
              "    <tr>\n",
              "      <th>3</th>\n",
              "      <td>1</td>\n",
              "      <td>47</td>\n",
              "      <td>3.5</td>\n",
              "      <td>2005-04-02 23:32:07</td>\n",
              "    </tr>\n",
              "    <tr>\n",
              "      <th>4</th>\n",
              "      <td>1</td>\n",
              "      <td>50</td>\n",
              "      <td>3.5</td>\n",
              "      <td>2005-04-02 23:29:40</td>\n",
              "    </tr>\n",
              "    <tr>\n",
              "      <th>5</th>\n",
              "      <td>1</td>\n",
              "      <td>112</td>\n",
              "      <td>3.5</td>\n",
              "      <td>2004-09-10 03:09:00</td>\n",
              "    </tr>\n",
              "    <tr>\n",
              "      <th>6</th>\n",
              "      <td>1</td>\n",
              "      <td>151</td>\n",
              "      <td>4.0</td>\n",
              "      <td>2004-09-10 03:08:54</td>\n",
              "    </tr>\n",
              "    <tr>\n",
              "      <th>7</th>\n",
              "      <td>1</td>\n",
              "      <td>223</td>\n",
              "      <td>4.0</td>\n",
              "      <td>2005-04-02 23:46:13</td>\n",
              "    </tr>\n",
              "    <tr>\n",
              "      <th>8</th>\n",
              "      <td>1</td>\n",
              "      <td>253</td>\n",
              "      <td>4.0</td>\n",
              "      <td>2005-04-02 23:35:40</td>\n",
              "    </tr>\n",
              "    <tr>\n",
              "      <th>9</th>\n",
              "      <td>1</td>\n",
              "      <td>260</td>\n",
              "      <td>4.0</td>\n",
              "      <td>2005-04-02 23:33:46</td>\n",
              "    </tr>\n",
              "    <tr>\n",
              "      <th>10</th>\n",
              "      <td>1</td>\n",
              "      <td>293</td>\n",
              "      <td>4.0</td>\n",
              "      <td>2005-04-02 23:31:43</td>\n",
              "    </tr>\n",
              "    <tr>\n",
              "      <th>11</th>\n",
              "      <td>1</td>\n",
              "      <td>296</td>\n",
              "      <td>4.0</td>\n",
              "      <td>2005-04-02 23:32:47</td>\n",
              "    </tr>\n",
              "    <tr>\n",
              "      <th>12</th>\n",
              "      <td>1</td>\n",
              "      <td>318</td>\n",
              "      <td>4.0</td>\n",
              "      <td>2005-04-02 23:33:18</td>\n",
              "    </tr>\n",
              "    <tr>\n",
              "      <th>13</th>\n",
              "      <td>1</td>\n",
              "      <td>337</td>\n",
              "      <td>3.5</td>\n",
              "      <td>2004-09-10 03:08:29</td>\n",
              "    </tr>\n",
              "    <tr>\n",
              "      <th>14</th>\n",
              "      <td>1</td>\n",
              "      <td>367</td>\n",
              "      <td>3.5</td>\n",
              "      <td>2005-04-02 23:53:00</td>\n",
              "    </tr>\n",
              "  </tbody>\n",
              "</table>\n",
              "</div>"
            ],
            "text/plain": [
              "    userId  movieId  rating            timestamp\n",
              "0        1        2     3.5  2005-04-02 23:53:47\n",
              "1        1       29     3.5  2005-04-02 23:31:16\n",
              "2        1       32     3.5  2005-04-02 23:33:39\n",
              "3        1       47     3.5  2005-04-02 23:32:07\n",
              "4        1       50     3.5  2005-04-02 23:29:40\n",
              "5        1      112     3.5  2004-09-10 03:09:00\n",
              "6        1      151     4.0  2004-09-10 03:08:54\n",
              "7        1      223     4.0  2005-04-02 23:46:13\n",
              "8        1      253     4.0  2005-04-02 23:35:40\n",
              "9        1      260     4.0  2005-04-02 23:33:46\n",
              "10       1      293     4.0  2005-04-02 23:31:43\n",
              "11       1      296     4.0  2005-04-02 23:32:47\n",
              "12       1      318     4.0  2005-04-02 23:33:18\n",
              "13       1      337     3.5  2004-09-10 03:08:29\n",
              "14       1      367     3.5  2005-04-02 23:53:00"
            ]
          },
          "metadata": {
            "tags": []
          },
          "execution_count": 16
        }
      ]
    },
    {
      "cell_type": "code",
      "metadata": {
        "id": "YW2St0Kzy27-"
      },
      "source": [
        "df = movie.merge(ratings, how=\"left\", on=\"movieId\")"
      ],
      "execution_count": 17,
      "outputs": []
    },
    {
      "cell_type": "code",
      "metadata": {
        "colab": {
          "base_uri": "https://localhost:8080/",
          "height": 775
        },
        "id": "0WhV0gfwy3Fl",
        "outputId": "423141ee-f26c-448a-d6bd-80ed318bb803"
      },
      "source": [
        "df.tail(15)"
      ],
      "execution_count": 18,
      "outputs": [
        {
          "output_type": "execute_result",
          "data": {
            "text/html": [
              "<div>\n",
              "<style scoped>\n",
              "    .dataframe tbody tr th:only-of-type {\n",
              "        vertical-align: middle;\n",
              "    }\n",
              "\n",
              "    .dataframe tbody tr th {\n",
              "        vertical-align: top;\n",
              "    }\n",
              "\n",
              "    .dataframe thead th {\n",
              "        text-align: right;\n",
              "    }\n",
              "</style>\n",
              "<table border=\"1\" class=\"dataframe\">\n",
              "  <thead>\n",
              "    <tr style=\"text-align: right;\">\n",
              "      <th></th>\n",
              "      <th>movieId</th>\n",
              "      <th>title</th>\n",
              "      <th>genres</th>\n",
              "      <th>userId</th>\n",
              "      <th>rating</th>\n",
              "      <th>timestamp</th>\n",
              "    </tr>\n",
              "  </thead>\n",
              "  <tbody>\n",
              "    <tr>\n",
              "      <th>20000782</th>\n",
              "      <td>131176</td>\n",
              "      <td>A Second Chance (2014)</td>\n",
              "      <td>Drama</td>\n",
              "      <td>109286.0</td>\n",
              "      <td>4.5</td>\n",
              "      <td>2015-03-30 05:10:03</td>\n",
              "    </tr>\n",
              "    <tr>\n",
              "      <th>20000783</th>\n",
              "      <td>131180</td>\n",
              "      <td>Dead Rising: Watchtower (2015)</td>\n",
              "      <td>Action|Horror|Thriller</td>\n",
              "      <td>117144.0</td>\n",
              "      <td>2.5</td>\n",
              "      <td>2015-03-30 07:17:52</td>\n",
              "    </tr>\n",
              "    <tr>\n",
              "      <th>20000784</th>\n",
              "      <td>131231</td>\n",
              "      <td>Standby (2014)</td>\n",
              "      <td>Comedy|Romance</td>\n",
              "      <td>63046.0</td>\n",
              "      <td>3.5</td>\n",
              "      <td>2015-03-30 14:04:06</td>\n",
              "    </tr>\n",
              "    <tr>\n",
              "      <th>20000785</th>\n",
              "      <td>131237</td>\n",
              "      <td>What Men Talk About (2010)</td>\n",
              "      <td>Comedy</td>\n",
              "      <td>134701.0</td>\n",
              "      <td>3.0</td>\n",
              "      <td>2015-03-30 17:14:50</td>\n",
              "    </tr>\n",
              "    <tr>\n",
              "      <th>20000786</th>\n",
              "      <td>131239</td>\n",
              "      <td>Three Quarter Moon (2011)</td>\n",
              "      <td>Comedy|Drama</td>\n",
              "      <td>79570.0</td>\n",
              "      <td>4.0</td>\n",
              "      <td>2015-03-30 18:03:09</td>\n",
              "    </tr>\n",
              "    <tr>\n",
              "      <th>20000787</th>\n",
              "      <td>131241</td>\n",
              "      <td>Ants in the Pants (2000)</td>\n",
              "      <td>Comedy|Romance</td>\n",
              "      <td>79570.0</td>\n",
              "      <td>4.0</td>\n",
              "      <td>2015-03-30 18:12:10</td>\n",
              "    </tr>\n",
              "    <tr>\n",
              "      <th>20000788</th>\n",
              "      <td>131243</td>\n",
              "      <td>Werner - Gekotzt wird später (2003)</td>\n",
              "      <td>Animation|Comedy</td>\n",
              "      <td>79570.0</td>\n",
              "      <td>4.0</td>\n",
              "      <td>2015-03-30 18:17:10</td>\n",
              "    </tr>\n",
              "    <tr>\n",
              "      <th>20000789</th>\n",
              "      <td>131248</td>\n",
              "      <td>Brother Bear 2 (2006)</td>\n",
              "      <td>Adventure|Animation|Children|Comedy|Fantasy</td>\n",
              "      <td>79570.0</td>\n",
              "      <td>4.0</td>\n",
              "      <td>2015-03-30 19:04:48</td>\n",
              "    </tr>\n",
              "    <tr>\n",
              "      <th>20000790</th>\n",
              "      <td>131250</td>\n",
              "      <td>No More School (2000)</td>\n",
              "      <td>Comedy</td>\n",
              "      <td>79570.0</td>\n",
              "      <td>4.0</td>\n",
              "      <td>2015-03-30 19:16:42</td>\n",
              "    </tr>\n",
              "    <tr>\n",
              "      <th>20000791</th>\n",
              "      <td>131252</td>\n",
              "      <td>Forklift Driver Klaus: The First Day on the Jo...</td>\n",
              "      <td>Comedy|Horror</td>\n",
              "      <td>79570.0</td>\n",
              "      <td>4.0</td>\n",
              "      <td>2015-03-30 19:20:55</td>\n",
              "    </tr>\n",
              "    <tr>\n",
              "      <th>20000792</th>\n",
              "      <td>131254</td>\n",
              "      <td>Kein Bund für's Leben (2007)</td>\n",
              "      <td>Comedy</td>\n",
              "      <td>79570.0</td>\n",
              "      <td>4.0</td>\n",
              "      <td>2015-03-30 19:32:59</td>\n",
              "    </tr>\n",
              "    <tr>\n",
              "      <th>20000793</th>\n",
              "      <td>131256</td>\n",
              "      <td>Feuer, Eis &amp; Dosenbier (2002)</td>\n",
              "      <td>Comedy</td>\n",
              "      <td>79570.0</td>\n",
              "      <td>4.0</td>\n",
              "      <td>2015-03-30 19:48:08</td>\n",
              "    </tr>\n",
              "    <tr>\n",
              "      <th>20000794</th>\n",
              "      <td>131258</td>\n",
              "      <td>The Pirates (2014)</td>\n",
              "      <td>Adventure</td>\n",
              "      <td>28906.0</td>\n",
              "      <td>2.5</td>\n",
              "      <td>2015-03-30 19:56:32</td>\n",
              "    </tr>\n",
              "    <tr>\n",
              "      <th>20000795</th>\n",
              "      <td>131260</td>\n",
              "      <td>Rentun Ruusu (2001)</td>\n",
              "      <td>(no genres listed)</td>\n",
              "      <td>65409.0</td>\n",
              "      <td>3.0</td>\n",
              "      <td>2015-03-30 19:57:46</td>\n",
              "    </tr>\n",
              "    <tr>\n",
              "      <th>20000796</th>\n",
              "      <td>131262</td>\n",
              "      <td>Innocence (2014)</td>\n",
              "      <td>Adventure|Fantasy|Horror</td>\n",
              "      <td>133047.0</td>\n",
              "      <td>4.0</td>\n",
              "      <td>2015-03-30 20:39:26</td>\n",
              "    </tr>\n",
              "  </tbody>\n",
              "</table>\n",
              "</div>"
            ],
            "text/plain": [
              "          movieId                                              title  \\\n",
              "20000782   131176                             A Second Chance (2014)   \n",
              "20000783   131180                     Dead Rising: Watchtower (2015)   \n",
              "20000784   131231                                     Standby (2014)   \n",
              "20000785   131237                         What Men Talk About (2010)   \n",
              "20000786   131239                          Three Quarter Moon (2011)   \n",
              "20000787   131241                           Ants in the Pants (2000)   \n",
              "20000788   131243                Werner - Gekotzt wird später (2003)   \n",
              "20000789   131248                              Brother Bear 2 (2006)   \n",
              "20000790   131250                              No More School (2000)   \n",
              "20000791   131252  Forklift Driver Klaus: The First Day on the Jo...   \n",
              "20000792   131254                       Kein Bund für's Leben (2007)   \n",
              "20000793   131256                      Feuer, Eis & Dosenbier (2002)   \n",
              "20000794   131258                                 The Pirates (2014)   \n",
              "20000795   131260                                Rentun Ruusu (2001)   \n",
              "20000796   131262                                   Innocence (2014)   \n",
              "\n",
              "                                               genres    userId  rating  \\\n",
              "20000782                                        Drama  109286.0     4.5   \n",
              "20000783                       Action|Horror|Thriller  117144.0     2.5   \n",
              "20000784                               Comedy|Romance   63046.0     3.5   \n",
              "20000785                                       Comedy  134701.0     3.0   \n",
              "20000786                                 Comedy|Drama   79570.0     4.0   \n",
              "20000787                               Comedy|Romance   79570.0     4.0   \n",
              "20000788                             Animation|Comedy   79570.0     4.0   \n",
              "20000789  Adventure|Animation|Children|Comedy|Fantasy   79570.0     4.0   \n",
              "20000790                                       Comedy   79570.0     4.0   \n",
              "20000791                                Comedy|Horror   79570.0     4.0   \n",
              "20000792                                       Comedy   79570.0     4.0   \n",
              "20000793                                       Comedy   79570.0     4.0   \n",
              "20000794                                    Adventure   28906.0     2.5   \n",
              "20000795                           (no genres listed)   65409.0     3.0   \n",
              "20000796                     Adventure|Fantasy|Horror  133047.0     4.0   \n",
              "\n",
              "                    timestamp  \n",
              "20000782  2015-03-30 05:10:03  \n",
              "20000783  2015-03-30 07:17:52  \n",
              "20000784  2015-03-30 14:04:06  \n",
              "20000785  2015-03-30 17:14:50  \n",
              "20000786  2015-03-30 18:03:09  \n",
              "20000787  2015-03-30 18:12:10  \n",
              "20000788  2015-03-30 18:17:10  \n",
              "20000789  2015-03-30 19:04:48  \n",
              "20000790  2015-03-30 19:16:42  \n",
              "20000791  2015-03-30 19:20:55  \n",
              "20000792  2015-03-30 19:32:59  \n",
              "20000793  2015-03-30 19:48:08  \n",
              "20000794  2015-03-30 19:56:32  \n",
              "20000795  2015-03-30 19:57:46  \n",
              "20000796  2015-03-30 20:39:26  "
            ]
          },
          "metadata": {
            "tags": []
          },
          "execution_count": 18
        }
      ]
    },
    {
      "cell_type": "markdown",
      "metadata": {
        "id": "K1sF2S_M0WiN"
      },
      "source": [
        "<h2 style=\"background-color:powderblue;\">HYBRID Recommender</h2>"
      ]
    },
    {
      "cell_type": "markdown",
      "metadata": {
        "id": "NpJGYXHR2ktk"
      },
      "source": [
        "item based/memory based\n",
        "\n",
        "ürünlerin benzerliği üzerinden öneriler yapılır\n",
        "\n",
        "puan benzerlikleri üzerinden öneriler yapılır"
      ]
    },
    {
      "cell_type": "code",
      "metadata": {
        "id": "f_wxfCHQ5B29"
      },
      "source": [
        "# user-movie matrisinin oluşturulması\n",
        "# öneri yapmadan önce bazı filtrelemeler yapmak uygun olacaktır, mesela çok düşük puanlı olan ürünlerin elenmesi\n"
      ],
      "execution_count": 19,
      "outputs": []
    },
    {
      "cell_type": "code",
      "metadata": {
        "colab": {
          "base_uri": "https://localhost:8080/"
        },
        "id": "5lWYTR2f5VVT",
        "outputId": "0afd313b-2b99-447d-fdaa-d0f777ce9a31"
      },
      "source": [
        "df[\"title\"].value_counts().head()  # her bir filme yapılan değerlendirme"
      ],
      "execution_count": 20,
      "outputs": [
        {
          "output_type": "execute_result",
          "data": {
            "text/plain": [
              "Pulp Fiction (1994)                 67310\n",
              "Forrest Gump (1994)                 66172\n",
              "Shawshank Redemption, The (1994)    63366\n",
              "Silence of the Lambs, The (1991)    63299\n",
              "Jurassic Park (1993)                59715\n",
              "Name: title, dtype: int64"
            ]
          },
          "metadata": {
            "tags": []
          },
          "execution_count": 20
        }
      ]
    },
    {
      "cell_type": "code",
      "metadata": {
        "colab": {
          "base_uri": "https://localhost:8080/"
        },
        "id": "b4Y0csJ55Vd5",
        "outputId": "178d1a5f-6444-4d83-8962-bb834d75781d"
      },
      "source": [
        "df[\"title\"].value_counts().tail() ## en az yorum alanlar"
      ],
      "execution_count": 21,
      "outputs": [
        {
          "output_type": "execute_result",
          "data": {
            "text/plain": [
              "Copper Mountain (1983)                             1\n",
              "Dr. Dolittle: Tail to the Chief (2008)             1\n",
              "Cost of Oil: Voices from the Arctic, The (2009)    1\n",
              "Blackbird (1959)                                   1\n",
              "Always (1985)                                      1\n",
              "Name: title, dtype: int64"
            ]
          },
          "metadata": {
            "tags": []
          },
          "execution_count": 21
        }
      ]
    },
    {
      "cell_type": "code",
      "metadata": {
        "id": "yj7a1qOn6JV6"
      },
      "source": [
        "## belli bir seviye üzeri (3000 ve üzeri) yorum yapılanları seçtim"
      ],
      "execution_count": 22,
      "outputs": []
    },
    {
      "cell_type": "code",
      "metadata": {
        "id": "GahdfCT36Jfw"
      },
      "source": [
        "choose_movies = pd.DataFrame(df[\"title\"].value_counts())\n",
        "great_movies = choose_movies[choose_movies[\"title\"] >= 3000].index\n",
        "great_movies = df[df[\"title\"].isin(great_movies)]"
      ],
      "execution_count": 23,
      "outputs": []
    },
    {
      "cell_type": "code",
      "metadata": {
        "colab": {
          "base_uri": "https://localhost:8080/"
        },
        "id": "QI-0mn9l7ZG_",
        "outputId": "c3b053ff-64d7-473d-d0ee-b47252ca31f9"
      },
      "source": [
        "great_movies.shape"
      ],
      "execution_count": 24,
      "outputs": [
        {
          "output_type": "execute_result",
          "data": {
            "text/plain": [
              "(14970107, 6)"
            ]
          },
          "metadata": {
            "tags": []
          },
          "execution_count": 24
        }
      ]
    },
    {
      "cell_type": "code",
      "metadata": {
        "colab": {
          "base_uri": "https://localhost:8080/"
        },
        "id": "ty6cYLcm7ZJS",
        "outputId": "2c44683a-1ef5-46de-f64b-6d310e5796bc"
      },
      "source": [
        "great_movies[\"title\"].nunique()  ## kalan eşşiz film sayısı"
      ],
      "execution_count": 25,
      "outputs": [
        {
          "output_type": "execute_result",
          "data": {
            "text/plain": [
              "1544"
            ]
          },
          "metadata": {
            "tags": []
          },
          "execution_count": 25
        }
      ]
    },
    {
      "cell_type": "code",
      "metadata": {
        "id": "a_PJwD3Y71CF"
      },
      "source": [
        "user_movie_df = great_movies.pivot_table(index=[\"userId\"], columns=[\"title\"], values=\"rating\")\n",
        "## index e sürunları aldım, colonlarda isimler, values da rating olsun"
      ],
      "execution_count": 26,
      "outputs": []
    },
    {
      "cell_type": "code",
      "metadata": {
        "colab": {
          "base_uri": "https://localhost:8080/",
          "height": 534
        },
        "id": "3WDtd_cb71Ef",
        "outputId": "0ad8dd90-c071-4991-d1f4-6dc3ce1e7419"
      },
      "source": [
        "user_movie_df.head(10)"
      ],
      "execution_count": 27,
      "outputs": [
        {
          "output_type": "execute_result",
          "data": {
            "text/html": [
              "<div>\n",
              "<style scoped>\n",
              "    .dataframe tbody tr th:only-of-type {\n",
              "        vertical-align: middle;\n",
              "    }\n",
              "\n",
              "    .dataframe tbody tr th {\n",
              "        vertical-align: top;\n",
              "    }\n",
              "\n",
              "    .dataframe thead th {\n",
              "        text-align: right;\n",
              "    }\n",
              "</style>\n",
              "<table border=\"1\" class=\"dataframe\">\n",
              "  <thead>\n",
              "    <tr style=\"text-align: right;\">\n",
              "      <th>title</th>\n",
              "      <th>'burbs, The (1989)</th>\n",
              "      <th>(500) Days of Summer (2009)</th>\n",
              "      <th>10 Things I Hate About You (1999)</th>\n",
              "      <th>101 Dalmatians (1996)</th>\n",
              "      <th>101 Dalmatians (One Hundred and One Dalmatians) (1961)</th>\n",
              "      <th>12 Angry Men (1957)</th>\n",
              "      <th>13 Going on 30 (2004)</th>\n",
              "      <th>13th Warrior, The (1999)</th>\n",
              "      <th>1984 (Nineteen Eighty-Four) (1984)</th>\n",
              "      <th>2 Days in the Valley (1996)</th>\n",
              "      <th>...</th>\n",
              "      <th>You've Got Mail (1998)</th>\n",
              "      <th>Young Frankenstein (1974)</th>\n",
              "      <th>Young Guns (1988)</th>\n",
              "      <th>Young Guns II (1990)</th>\n",
              "      <th>Zodiac (2007)</th>\n",
              "      <th>Zombieland (2009)</th>\n",
              "      <th>Zoolander (2001)</th>\n",
              "      <th>eXistenZ (1999)</th>\n",
              "      <th>xXx (2002)</th>\n",
              "      <th>¡Three Amigos! (1986)</th>\n",
              "    </tr>\n",
              "    <tr>\n",
              "      <th>userId</th>\n",
              "      <th></th>\n",
              "      <th></th>\n",
              "      <th></th>\n",
              "      <th></th>\n",
              "      <th></th>\n",
              "      <th></th>\n",
              "      <th></th>\n",
              "      <th></th>\n",
              "      <th></th>\n",
              "      <th></th>\n",
              "      <th></th>\n",
              "      <th></th>\n",
              "      <th></th>\n",
              "      <th></th>\n",
              "      <th></th>\n",
              "      <th></th>\n",
              "      <th></th>\n",
              "      <th></th>\n",
              "      <th></th>\n",
              "      <th></th>\n",
              "      <th></th>\n",
              "    </tr>\n",
              "  </thead>\n",
              "  <tbody>\n",
              "    <tr>\n",
              "      <th>1.0</th>\n",
              "      <td>NaN</td>\n",
              "      <td>NaN</td>\n",
              "      <td>NaN</td>\n",
              "      <td>NaN</td>\n",
              "      <td>NaN</td>\n",
              "      <td>NaN</td>\n",
              "      <td>NaN</td>\n",
              "      <td>NaN</td>\n",
              "      <td>NaN</td>\n",
              "      <td>NaN</td>\n",
              "      <td>...</td>\n",
              "      <td>NaN</td>\n",
              "      <td>4.0</td>\n",
              "      <td>NaN</td>\n",
              "      <td>NaN</td>\n",
              "      <td>NaN</td>\n",
              "      <td>NaN</td>\n",
              "      <td>NaN</td>\n",
              "      <td>NaN</td>\n",
              "      <td>NaN</td>\n",
              "      <td>NaN</td>\n",
              "    </tr>\n",
              "    <tr>\n",
              "      <th>2.0</th>\n",
              "      <td>NaN</td>\n",
              "      <td>NaN</td>\n",
              "      <td>NaN</td>\n",
              "      <td>NaN</td>\n",
              "      <td>NaN</td>\n",
              "      <td>NaN</td>\n",
              "      <td>NaN</td>\n",
              "      <td>NaN</td>\n",
              "      <td>NaN</td>\n",
              "      <td>NaN</td>\n",
              "      <td>...</td>\n",
              "      <td>NaN</td>\n",
              "      <td>NaN</td>\n",
              "      <td>NaN</td>\n",
              "      <td>NaN</td>\n",
              "      <td>NaN</td>\n",
              "      <td>NaN</td>\n",
              "      <td>NaN</td>\n",
              "      <td>NaN</td>\n",
              "      <td>NaN</td>\n",
              "      <td>NaN</td>\n",
              "    </tr>\n",
              "    <tr>\n",
              "      <th>3.0</th>\n",
              "      <td>NaN</td>\n",
              "      <td>NaN</td>\n",
              "      <td>NaN</td>\n",
              "      <td>NaN</td>\n",
              "      <td>NaN</td>\n",
              "      <td>NaN</td>\n",
              "      <td>NaN</td>\n",
              "      <td>NaN</td>\n",
              "      <td>5.0</td>\n",
              "      <td>NaN</td>\n",
              "      <td>...</td>\n",
              "      <td>NaN</td>\n",
              "      <td>5.0</td>\n",
              "      <td>NaN</td>\n",
              "      <td>NaN</td>\n",
              "      <td>NaN</td>\n",
              "      <td>NaN</td>\n",
              "      <td>NaN</td>\n",
              "      <td>NaN</td>\n",
              "      <td>NaN</td>\n",
              "      <td>NaN</td>\n",
              "    </tr>\n",
              "    <tr>\n",
              "      <th>4.0</th>\n",
              "      <td>NaN</td>\n",
              "      <td>NaN</td>\n",
              "      <td>NaN</td>\n",
              "      <td>NaN</td>\n",
              "      <td>NaN</td>\n",
              "      <td>NaN</td>\n",
              "      <td>NaN</td>\n",
              "      <td>NaN</td>\n",
              "      <td>NaN</td>\n",
              "      <td>NaN</td>\n",
              "      <td>...</td>\n",
              "      <td>NaN</td>\n",
              "      <td>NaN</td>\n",
              "      <td>NaN</td>\n",
              "      <td>NaN</td>\n",
              "      <td>NaN</td>\n",
              "      <td>NaN</td>\n",
              "      <td>NaN</td>\n",
              "      <td>NaN</td>\n",
              "      <td>NaN</td>\n",
              "      <td>NaN</td>\n",
              "    </tr>\n",
              "    <tr>\n",
              "      <th>5.0</th>\n",
              "      <td>NaN</td>\n",
              "      <td>NaN</td>\n",
              "      <td>NaN</td>\n",
              "      <td>NaN</td>\n",
              "      <td>NaN</td>\n",
              "      <td>NaN</td>\n",
              "      <td>NaN</td>\n",
              "      <td>NaN</td>\n",
              "      <td>NaN</td>\n",
              "      <td>NaN</td>\n",
              "      <td>...</td>\n",
              "      <td>NaN</td>\n",
              "      <td>NaN</td>\n",
              "      <td>NaN</td>\n",
              "      <td>NaN</td>\n",
              "      <td>NaN</td>\n",
              "      <td>NaN</td>\n",
              "      <td>NaN</td>\n",
              "      <td>NaN</td>\n",
              "      <td>NaN</td>\n",
              "      <td>NaN</td>\n",
              "    </tr>\n",
              "    <tr>\n",
              "      <th>6.0</th>\n",
              "      <td>NaN</td>\n",
              "      <td>NaN</td>\n",
              "      <td>NaN</td>\n",
              "      <td>NaN</td>\n",
              "      <td>NaN</td>\n",
              "      <td>NaN</td>\n",
              "      <td>NaN</td>\n",
              "      <td>NaN</td>\n",
              "      <td>NaN</td>\n",
              "      <td>NaN</td>\n",
              "      <td>...</td>\n",
              "      <td>NaN</td>\n",
              "      <td>NaN</td>\n",
              "      <td>NaN</td>\n",
              "      <td>NaN</td>\n",
              "      <td>NaN</td>\n",
              "      <td>NaN</td>\n",
              "      <td>NaN</td>\n",
              "      <td>NaN</td>\n",
              "      <td>NaN</td>\n",
              "      <td>NaN</td>\n",
              "    </tr>\n",
              "    <tr>\n",
              "      <th>7.0</th>\n",
              "      <td>NaN</td>\n",
              "      <td>NaN</td>\n",
              "      <td>NaN</td>\n",
              "      <td>NaN</td>\n",
              "      <td>NaN</td>\n",
              "      <td>NaN</td>\n",
              "      <td>NaN</td>\n",
              "      <td>NaN</td>\n",
              "      <td>NaN</td>\n",
              "      <td>NaN</td>\n",
              "      <td>...</td>\n",
              "      <td>3.0</td>\n",
              "      <td>NaN</td>\n",
              "      <td>NaN</td>\n",
              "      <td>NaN</td>\n",
              "      <td>NaN</td>\n",
              "      <td>NaN</td>\n",
              "      <td>NaN</td>\n",
              "      <td>NaN</td>\n",
              "      <td>NaN</td>\n",
              "      <td>2.0</td>\n",
              "    </tr>\n",
              "    <tr>\n",
              "      <th>8.0</th>\n",
              "      <td>NaN</td>\n",
              "      <td>NaN</td>\n",
              "      <td>NaN</td>\n",
              "      <td>NaN</td>\n",
              "      <td>NaN</td>\n",
              "      <td>NaN</td>\n",
              "      <td>NaN</td>\n",
              "      <td>NaN</td>\n",
              "      <td>NaN</td>\n",
              "      <td>NaN</td>\n",
              "      <td>...</td>\n",
              "      <td>NaN</td>\n",
              "      <td>NaN</td>\n",
              "      <td>NaN</td>\n",
              "      <td>NaN</td>\n",
              "      <td>NaN</td>\n",
              "      <td>NaN</td>\n",
              "      <td>NaN</td>\n",
              "      <td>NaN</td>\n",
              "      <td>NaN</td>\n",
              "      <td>NaN</td>\n",
              "    </tr>\n",
              "    <tr>\n",
              "      <th>9.0</th>\n",
              "      <td>NaN</td>\n",
              "      <td>NaN</td>\n",
              "      <td>NaN</td>\n",
              "      <td>NaN</td>\n",
              "      <td>NaN</td>\n",
              "      <td>NaN</td>\n",
              "      <td>NaN</td>\n",
              "      <td>NaN</td>\n",
              "      <td>NaN</td>\n",
              "      <td>NaN</td>\n",
              "      <td>...</td>\n",
              "      <td>NaN</td>\n",
              "      <td>NaN</td>\n",
              "      <td>NaN</td>\n",
              "      <td>NaN</td>\n",
              "      <td>NaN</td>\n",
              "      <td>NaN</td>\n",
              "      <td>NaN</td>\n",
              "      <td>NaN</td>\n",
              "      <td>NaN</td>\n",
              "      <td>NaN</td>\n",
              "    </tr>\n",
              "    <tr>\n",
              "      <th>10.0</th>\n",
              "      <td>NaN</td>\n",
              "      <td>NaN</td>\n",
              "      <td>NaN</td>\n",
              "      <td>NaN</td>\n",
              "      <td>NaN</td>\n",
              "      <td>NaN</td>\n",
              "      <td>NaN</td>\n",
              "      <td>NaN</td>\n",
              "      <td>NaN</td>\n",
              "      <td>NaN</td>\n",
              "      <td>...</td>\n",
              "      <td>NaN</td>\n",
              "      <td>NaN</td>\n",
              "      <td>NaN</td>\n",
              "      <td>NaN</td>\n",
              "      <td>NaN</td>\n",
              "      <td>NaN</td>\n",
              "      <td>NaN</td>\n",
              "      <td>NaN</td>\n",
              "      <td>NaN</td>\n",
              "      <td>NaN</td>\n",
              "    </tr>\n",
              "  </tbody>\n",
              "</table>\n",
              "<p>10 rows × 1544 columns</p>\n",
              "</div>"
            ],
            "text/plain": [
              "title   'burbs, The (1989)  (500) Days of Summer (2009)  \\\n",
              "userId                                                    \n",
              "1.0                    NaN                          NaN   \n",
              "2.0                    NaN                          NaN   \n",
              "3.0                    NaN                          NaN   \n",
              "4.0                    NaN                          NaN   \n",
              "5.0                    NaN                          NaN   \n",
              "6.0                    NaN                          NaN   \n",
              "7.0                    NaN                          NaN   \n",
              "8.0                    NaN                          NaN   \n",
              "9.0                    NaN                          NaN   \n",
              "10.0                   NaN                          NaN   \n",
              "\n",
              "title   10 Things I Hate About You (1999)  101 Dalmatians (1996)  \\\n",
              "userId                                                             \n",
              "1.0                                   NaN                    NaN   \n",
              "2.0                                   NaN                    NaN   \n",
              "3.0                                   NaN                    NaN   \n",
              "4.0                                   NaN                    NaN   \n",
              "5.0                                   NaN                    NaN   \n",
              "6.0                                   NaN                    NaN   \n",
              "7.0                                   NaN                    NaN   \n",
              "8.0                                   NaN                    NaN   \n",
              "9.0                                   NaN                    NaN   \n",
              "10.0                                  NaN                    NaN   \n",
              "\n",
              "title   101 Dalmatians (One Hundred and One Dalmatians) (1961)  \\\n",
              "userId                                                           \n",
              "1.0                                                   NaN        \n",
              "2.0                                                   NaN        \n",
              "3.0                                                   NaN        \n",
              "4.0                                                   NaN        \n",
              "5.0                                                   NaN        \n",
              "6.0                                                   NaN        \n",
              "7.0                                                   NaN        \n",
              "8.0                                                   NaN        \n",
              "9.0                                                   NaN        \n",
              "10.0                                                  NaN        \n",
              "\n",
              "title   12 Angry Men (1957)  13 Going on 30 (2004)  13th Warrior, The (1999)  \\\n",
              "userId                                                                         \n",
              "1.0                     NaN                    NaN                       NaN   \n",
              "2.0                     NaN                    NaN                       NaN   \n",
              "3.0                     NaN                    NaN                       NaN   \n",
              "4.0                     NaN                    NaN                       NaN   \n",
              "5.0                     NaN                    NaN                       NaN   \n",
              "6.0                     NaN                    NaN                       NaN   \n",
              "7.0                     NaN                    NaN                       NaN   \n",
              "8.0                     NaN                    NaN                       NaN   \n",
              "9.0                     NaN                    NaN                       NaN   \n",
              "10.0                    NaN                    NaN                       NaN   \n",
              "\n",
              "title   1984 (Nineteen Eighty-Four) (1984)  2 Days in the Valley (1996)  ...  \\\n",
              "userId                                                                   ...   \n",
              "1.0                                    NaN                          NaN  ...   \n",
              "2.0                                    NaN                          NaN  ...   \n",
              "3.0                                    5.0                          NaN  ...   \n",
              "4.0                                    NaN                          NaN  ...   \n",
              "5.0                                    NaN                          NaN  ...   \n",
              "6.0                                    NaN                          NaN  ...   \n",
              "7.0                                    NaN                          NaN  ...   \n",
              "8.0                                    NaN                          NaN  ...   \n",
              "9.0                                    NaN                          NaN  ...   \n",
              "10.0                                   NaN                          NaN  ...   \n",
              "\n",
              "title   You've Got Mail (1998)  Young Frankenstein (1974)  Young Guns (1988)  \\\n",
              "userId                                                                         \n",
              "1.0                        NaN                        4.0                NaN   \n",
              "2.0                        NaN                        NaN                NaN   \n",
              "3.0                        NaN                        5.0                NaN   \n",
              "4.0                        NaN                        NaN                NaN   \n",
              "5.0                        NaN                        NaN                NaN   \n",
              "6.0                        NaN                        NaN                NaN   \n",
              "7.0                        3.0                        NaN                NaN   \n",
              "8.0                        NaN                        NaN                NaN   \n",
              "9.0                        NaN                        NaN                NaN   \n",
              "10.0                       NaN                        NaN                NaN   \n",
              "\n",
              "title   Young Guns II (1990)  Zodiac (2007)  Zombieland (2009)  \\\n",
              "userId                                                           \n",
              "1.0                      NaN            NaN                NaN   \n",
              "2.0                      NaN            NaN                NaN   \n",
              "3.0                      NaN            NaN                NaN   \n",
              "4.0                      NaN            NaN                NaN   \n",
              "5.0                      NaN            NaN                NaN   \n",
              "6.0                      NaN            NaN                NaN   \n",
              "7.0                      NaN            NaN                NaN   \n",
              "8.0                      NaN            NaN                NaN   \n",
              "9.0                      NaN            NaN                NaN   \n",
              "10.0                     NaN            NaN                NaN   \n",
              "\n",
              "title   Zoolander (2001)  eXistenZ (1999)  xXx (2002)  ¡Three Amigos! (1986)  \n",
              "userId                                                                        \n",
              "1.0                  NaN              NaN         NaN                    NaN  \n",
              "2.0                  NaN              NaN         NaN                    NaN  \n",
              "3.0                  NaN              NaN         NaN                    NaN  \n",
              "4.0                  NaN              NaN         NaN                    NaN  \n",
              "5.0                  NaN              NaN         NaN                    NaN  \n",
              "6.0                  NaN              NaN         NaN                    NaN  \n",
              "7.0                  NaN              NaN         NaN                    2.0  \n",
              "8.0                  NaN              NaN         NaN                    NaN  \n",
              "9.0                  NaN              NaN         NaN                    NaN  \n",
              "10.0                 NaN              NaN         NaN                    NaN  \n",
              "\n",
              "[10 rows x 1544 columns]"
            ]
          },
          "metadata": {
            "tags": []
          },
          "execution_count": 27
        }
      ]
    },
    {
      "cell_type": "code",
      "metadata": {
        "colab": {
          "base_uri": "https://localhost:8080/"
        },
        "id": "5lZxc4uu8b3U",
        "outputId": "07829884-a69c-4a15-bb7c-1a82116de426"
      },
      "source": [
        "movie_name = \"Ocean's Twelve (2004)\"   ##input(\"enter the Moive Name\")\n",
        "movie_name = user_movie_df[movie_name]\n",
        "user_movie_df.corrwith(movie_name).sort_values(ascending=False).head(5)"
      ],
      "execution_count": 28,
      "outputs": [
        {
          "output_type": "execute_result",
          "data": {
            "text/plain": [
              "title\n",
              "Ocean's Twelve (2004)                              1.000000\n",
              "Ocean's Thirteen (2007)                            0.681654\n",
              "Ocean's Eleven (2001)                              0.551280\n",
              "Pirates of the Caribbean: At World's End (2007)    0.456309\n",
              "Italian Job, The (2003)                            0.455345\n",
              "dtype: float64"
            ]
          },
          "metadata": {
            "tags": []
          },
          "execution_count": 28
        }
      ]
    },
    {
      "cell_type": "markdown",
      "metadata": {
        "id": "oZa9lMJZB04j"
      },
      "source": [
        "**Öneri Yapılacak Kullanıcının İzlediği Filmlerin Belirlenmesi**"
      ]
    },
    {
      "cell_type": "code",
      "metadata": {
        "id": "8PNh9Sbu8tFu"
      },
      "source": [
        "random_user = int(pd.Series(user_movie_df.index).sample(1, random_state=45).values)"
      ],
      "execution_count": 29,
      "outputs": []
    },
    {
      "cell_type": "code",
      "metadata": {
        "id": "SIHa-Zuk71Gt"
      },
      "source": [
        "random_user_df = user_movie_df[user_movie_df.index == random_user]\n"
      ],
      "execution_count": 30,
      "outputs": []
    },
    {
      "cell_type": "code",
      "metadata": {
        "colab": {
          "base_uri": "https://localhost:8080/",
          "height": 258
        },
        "id": "X3e3eJ1aCkfn",
        "outputId": "9e704e23-350f-4f96-a06f-e77f0b5bc46d"
      },
      "source": [
        "random_user_df ## hedef kullanıcının değerlendirmeleri"
      ],
      "execution_count": 31,
      "outputs": [
        {
          "output_type": "execute_result",
          "data": {
            "text/html": [
              "<div>\n",
              "<style scoped>\n",
              "    .dataframe tbody tr th:only-of-type {\n",
              "        vertical-align: middle;\n",
              "    }\n",
              "\n",
              "    .dataframe tbody tr th {\n",
              "        vertical-align: top;\n",
              "    }\n",
              "\n",
              "    .dataframe thead th {\n",
              "        text-align: right;\n",
              "    }\n",
              "</style>\n",
              "<table border=\"1\" class=\"dataframe\">\n",
              "  <thead>\n",
              "    <tr style=\"text-align: right;\">\n",
              "      <th>title</th>\n",
              "      <th>'burbs, The (1989)</th>\n",
              "      <th>(500) Days of Summer (2009)</th>\n",
              "      <th>10 Things I Hate About You (1999)</th>\n",
              "      <th>101 Dalmatians (1996)</th>\n",
              "      <th>101 Dalmatians (One Hundred and One Dalmatians) (1961)</th>\n",
              "      <th>12 Angry Men (1957)</th>\n",
              "      <th>13 Going on 30 (2004)</th>\n",
              "      <th>13th Warrior, The (1999)</th>\n",
              "      <th>1984 (Nineteen Eighty-Four) (1984)</th>\n",
              "      <th>2 Days in the Valley (1996)</th>\n",
              "      <th>...</th>\n",
              "      <th>You've Got Mail (1998)</th>\n",
              "      <th>Young Frankenstein (1974)</th>\n",
              "      <th>Young Guns (1988)</th>\n",
              "      <th>Young Guns II (1990)</th>\n",
              "      <th>Zodiac (2007)</th>\n",
              "      <th>Zombieland (2009)</th>\n",
              "      <th>Zoolander (2001)</th>\n",
              "      <th>eXistenZ (1999)</th>\n",
              "      <th>xXx (2002)</th>\n",
              "      <th>¡Three Amigos! (1986)</th>\n",
              "    </tr>\n",
              "    <tr>\n",
              "      <th>userId</th>\n",
              "      <th></th>\n",
              "      <th></th>\n",
              "      <th></th>\n",
              "      <th></th>\n",
              "      <th></th>\n",
              "      <th></th>\n",
              "      <th></th>\n",
              "      <th></th>\n",
              "      <th></th>\n",
              "      <th></th>\n",
              "      <th></th>\n",
              "      <th></th>\n",
              "      <th></th>\n",
              "      <th></th>\n",
              "      <th></th>\n",
              "      <th></th>\n",
              "      <th></th>\n",
              "      <th></th>\n",
              "      <th></th>\n",
              "      <th></th>\n",
              "      <th></th>\n",
              "    </tr>\n",
              "  </thead>\n",
              "  <tbody>\n",
              "    <tr>\n",
              "      <th>46127.0</th>\n",
              "      <td>NaN</td>\n",
              "      <td>NaN</td>\n",
              "      <td>NaN</td>\n",
              "      <td>NaN</td>\n",
              "      <td>NaN</td>\n",
              "      <td>NaN</td>\n",
              "      <td>NaN</td>\n",
              "      <td>NaN</td>\n",
              "      <td>NaN</td>\n",
              "      <td>NaN</td>\n",
              "      <td>...</td>\n",
              "      <td>NaN</td>\n",
              "      <td>NaN</td>\n",
              "      <td>NaN</td>\n",
              "      <td>NaN</td>\n",
              "      <td>NaN</td>\n",
              "      <td>NaN</td>\n",
              "      <td>NaN</td>\n",
              "      <td>NaN</td>\n",
              "      <td>NaN</td>\n",
              "      <td>NaN</td>\n",
              "    </tr>\n",
              "  </tbody>\n",
              "</table>\n",
              "<p>1 rows × 1544 columns</p>\n",
              "</div>"
            ],
            "text/plain": [
              "title    'burbs, The (1989)  (500) Days of Summer (2009)  \\\n",
              "userId                                                     \n",
              "46127.0                 NaN                          NaN   \n",
              "\n",
              "title    10 Things I Hate About You (1999)  101 Dalmatians (1996)  \\\n",
              "userId                                                              \n",
              "46127.0                                NaN                    NaN   \n",
              "\n",
              "title    101 Dalmatians (One Hundred and One Dalmatians) (1961)  \\\n",
              "userId                                                            \n",
              "46127.0                                                NaN        \n",
              "\n",
              "title    12 Angry Men (1957)  13 Going on 30 (2004)  13th Warrior, The (1999)  \\\n",
              "userId                                                                          \n",
              "46127.0                  NaN                    NaN                       NaN   \n",
              "\n",
              "title    1984 (Nineteen Eighty-Four) (1984)  2 Days in the Valley (1996)  ...  \\\n",
              "userId                                                                    ...   \n",
              "46127.0                                 NaN                          NaN  ...   \n",
              "\n",
              "title    You've Got Mail (1998)  Young Frankenstein (1974)  Young Guns (1988)  \\\n",
              "userId                                                                          \n",
              "46127.0                     NaN                        NaN                NaN   \n",
              "\n",
              "title    Young Guns II (1990)  Zodiac (2007)  Zombieland (2009)  \\\n",
              "userId                                                            \n",
              "46127.0                   NaN            NaN                NaN   \n",
              "\n",
              "title    Zoolander (2001)  eXistenZ (1999)  xXx (2002)  ¡Three Amigos! (1986)  \n",
              "userId                                                                         \n",
              "46127.0               NaN              NaN         NaN                    NaN  \n",
              "\n",
              "[1 rows x 1544 columns]"
            ]
          },
          "metadata": {
            "tags": []
          },
          "execution_count": 31
        }
      ]
    },
    {
      "cell_type": "code",
      "metadata": {
        "id": "LByGbTR4Bqnw"
      },
      "source": [
        "movies_watched = random_user_df.columns[random_user_df.notna().any()].tolist()\n",
        "\n",
        "## izlenen filmler içinde NAN olmayanları seçtim\n"
      ],
      "execution_count": 32,
      "outputs": []
    },
    {
      "cell_type": "code",
      "metadata": {
        "colab": {
          "base_uri": "https://localhost:8080/"
        },
        "id": "MfgRoR0ZC-V4",
        "outputId": "1dcff526-a46d-46cd-b031-2d3b9dc16d9a"
      },
      "source": [
        "movies_watched"
      ],
      "execution_count": 33,
      "outputs": [
        {
          "output_type": "execute_result",
          "data": {
            "text/plain": [
              "['Apocalypse Now (1979)',\n",
              " 'Batman (1989)',\n",
              " 'Braveheart (1995)',\n",
              " 'Bridge on the River Kwai, The (1957)',\n",
              " 'Butch Cassidy and the Sundance Kid (1969)',\n",
              " 'Dr. Strangelove or: How I Learned to Stop Worrying and Love the Bomb (1964)',\n",
              " 'Fatal Attraction (1987)',\n",
              " 'Gone with the Wind (1939)',\n",
              " \"It's a Wonderful Life (1946)\",\n",
              " 'Lawrence of Arabia (1962)',\n",
              " 'Liar Liar (1997)',\n",
              " 'North by Northwest (1959)',\n",
              " 'Patriot, The (2000)',\n",
              " 'Philadelphia (1993)',\n",
              " 'Pinocchio (1940)',\n",
              " 'Shawshank Redemption, The (1994)',\n",
              " 'Silence of the Lambs, The (1991)',\n",
              " 'Snow White and the Seven Dwarfs (1937)',\n",
              " 'Sound of Music, The (1965)',\n",
              " 'Sting, The (1973)']"
            ]
          },
          "metadata": {
            "tags": []
          },
          "execution_count": 33
        }
      ]
    },
    {
      "cell_type": "code",
      "metadata": {
        "colab": {
          "base_uri": "https://localhost:8080/"
        },
        "id": "SU7TfBv6Bqeo",
        "outputId": "6c1b9bef-ad89-4698-e505-5aa53b6019c6"
      },
      "source": [
        "user_movie_df.loc[user_movie_df.index == random_user, user_movie_df.columns == \"Schindler's List (1993)\"]\n",
        "len(movies_watched)  ## kaç tane film izlemiş \n",
        "## perc = 60/100*20, benzerlik oranı 12 olsun hedef kitle ile"
      ],
      "execution_count": 34,
      "outputs": [
        {
          "output_type": "execute_result",
          "data": {
            "text/plain": [
              "20"
            ]
          },
          "metadata": {
            "tags": []
          },
          "execution_count": 34
        }
      ]
    },
    {
      "cell_type": "markdown",
      "metadata": {
        "id": "qQXM9LFXB9Np"
      },
      "source": [
        "**Aynı Filmleri İzleyen Diğer Kullanıcıların Verisine ve Id'lerine Erişmek**"
      ]
    },
    {
      "cell_type": "code",
      "metadata": {
        "id": "nvvayK8nCAAq"
      },
      "source": [
        "movies_watched_df = user_movie_df[movies_watched]\n",
        "user_movie_count = movies_watched_df.T.notnull().sum() ## izlenen filmlerin transposunu aldıktan sonra\n",
        "# izleyip izlemediklerine göre toplam değeri bastırdım\n",
        "user_movie_count = user_movie_count.reset_index()\n",
        "## indexte yer alan user idleri değişkene çevirdim ve her bir ID nin yanında kaç tane film izlenmiş"
      ],
      "execution_count": 35,
      "outputs": []
    },
    {
      "cell_type": "code",
      "metadata": {
        "colab": {
          "base_uri": "https://localhost:8080/"
        },
        "id": "Ga_QGxKGDwet",
        "outputId": "aa29ed0f-e4e0-4b0d-be6e-63ff916ca2bf"
      },
      "source": [
        "movies_watched_df.head(5)\n",
        "movies_watched_df.shape ## kaç tane kullanıcı ile ortak film izlenmiş"
      ],
      "execution_count": 36,
      "outputs": [
        {
          "output_type": "execute_result",
          "data": {
            "text/plain": [
              "(138490, 20)"
            ]
          },
          "metadata": {
            "tags": []
          },
          "execution_count": 36
        }
      ]
    },
    {
      "cell_type": "code",
      "metadata": {
        "id": "HnG1agdPCEPh"
      },
      "source": [
        "user_movie_count.columns = [\"userId\", \"movie_count\"]"
      ],
      "execution_count": 37,
      "outputs": []
    },
    {
      "cell_type": "code",
      "metadata": {
        "id": "xHUDf6lSHaxE"
      },
      "source": [
        "perc = 60/100"
      ],
      "execution_count": 38,
      "outputs": []
    },
    {
      "cell_type": "code",
      "metadata": {
        "colab": {
          "base_uri": "https://localhost:8080/",
          "height": 414
        },
        "id": "cCP-yl-7FRhv",
        "outputId": "2f806fa1-efa5-4fd9-de1a-0d030cfad89d"
      },
      "source": [
        "user_movie_count[user_movie_count[\"movie_count\"] > perc].sort_values(\"movie_count\", ascending=False)\n",
        "## 12 den fazla ortak film olan user'lar gelsin"
      ],
      "execution_count": 39,
      "outputs": [
        {
          "output_type": "execute_result",
          "data": {
            "text/html": [
              "<div>\n",
              "<style scoped>\n",
              "    .dataframe tbody tr th:only-of-type {\n",
              "        vertical-align: middle;\n",
              "    }\n",
              "\n",
              "    .dataframe tbody tr th {\n",
              "        vertical-align: top;\n",
              "    }\n",
              "\n",
              "    .dataframe thead th {\n",
              "        text-align: right;\n",
              "    }\n",
              "</style>\n",
              "<table border=\"1\" class=\"dataframe\">\n",
              "  <thead>\n",
              "    <tr style=\"text-align: right;\">\n",
              "      <th></th>\n",
              "      <th>userId</th>\n",
              "      <th>movie_count</th>\n",
              "    </tr>\n",
              "  </thead>\n",
              "  <tbody>\n",
              "    <tr>\n",
              "      <th>34853</th>\n",
              "      <td>34856.0</td>\n",
              "      <td>20</td>\n",
              "    </tr>\n",
              "    <tr>\n",
              "      <th>74051</th>\n",
              "      <td>74054.0</td>\n",
              "      <td>20</td>\n",
              "    </tr>\n",
              "    <tr>\n",
              "      <th>91864</th>\n",
              "      <td>91867.0</td>\n",
              "      <td>20</td>\n",
              "    </tr>\n",
              "    <tr>\n",
              "      <th>91190</th>\n",
              "      <td>91193.0</td>\n",
              "      <td>20</td>\n",
              "    </tr>\n",
              "    <tr>\n",
              "      <th>20130</th>\n",
              "      <td>20132.0</td>\n",
              "      <td>20</td>\n",
              "    </tr>\n",
              "    <tr>\n",
              "      <th>...</th>\n",
              "      <td>...</td>\n",
              "      <td>...</td>\n",
              "    </tr>\n",
              "    <tr>\n",
              "      <th>39047</th>\n",
              "      <td>39050.0</td>\n",
              "      <td>1</td>\n",
              "    </tr>\n",
              "    <tr>\n",
              "      <th>83549</th>\n",
              "      <td>83552.0</td>\n",
              "      <td>1</td>\n",
              "    </tr>\n",
              "    <tr>\n",
              "      <th>114654</th>\n",
              "      <td>114657.0</td>\n",
              "      <td>1</td>\n",
              "    </tr>\n",
              "    <tr>\n",
              "      <th>10166</th>\n",
              "      <td>10168.0</td>\n",
              "      <td>1</td>\n",
              "    </tr>\n",
              "    <tr>\n",
              "      <th>50639</th>\n",
              "      <td>50642.0</td>\n",
              "      <td>1</td>\n",
              "    </tr>\n",
              "  </tbody>\n",
              "</table>\n",
              "<p>113820 rows × 2 columns</p>\n",
              "</div>"
            ],
            "text/plain": [
              "          userId  movie_count\n",
              "34853    34856.0           20\n",
              "74051    74054.0           20\n",
              "91864    91867.0           20\n",
              "91190    91193.0           20\n",
              "20130    20132.0           20\n",
              "...          ...          ...\n",
              "39047    39050.0            1\n",
              "83549    83552.0            1\n",
              "114654  114657.0            1\n",
              "10166    10168.0            1\n",
              "50639    50642.0            1\n",
              "\n",
              "[113820 rows x 2 columns]"
            ]
          },
          "metadata": {
            "tags": []
          },
          "execution_count": 39
        }
      ]
    },
    {
      "cell_type": "code",
      "metadata": {
        "colab": {
          "base_uri": "https://localhost:8080/",
          "height": 414
        },
        "id": "aYZ9R9o8Fo09",
        "outputId": "7680c759-25d8-45ad-887a-f924447d689a"
      },
      "source": [
        "user_movie_count"
      ],
      "execution_count": 40,
      "outputs": [
        {
          "output_type": "execute_result",
          "data": {
            "text/html": [
              "<div>\n",
              "<style scoped>\n",
              "    .dataframe tbody tr th:only-of-type {\n",
              "        vertical-align: middle;\n",
              "    }\n",
              "\n",
              "    .dataframe tbody tr th {\n",
              "        vertical-align: top;\n",
              "    }\n",
              "\n",
              "    .dataframe thead th {\n",
              "        text-align: right;\n",
              "    }\n",
              "</style>\n",
              "<table border=\"1\" class=\"dataframe\">\n",
              "  <thead>\n",
              "    <tr style=\"text-align: right;\">\n",
              "      <th></th>\n",
              "      <th>userId</th>\n",
              "      <th>movie_count</th>\n",
              "    </tr>\n",
              "  </thead>\n",
              "  <tbody>\n",
              "    <tr>\n",
              "      <th>0</th>\n",
              "      <td>1.0</td>\n",
              "      <td>4</td>\n",
              "    </tr>\n",
              "    <tr>\n",
              "      <th>1</th>\n",
              "      <td>2.0</td>\n",
              "      <td>3</td>\n",
              "    </tr>\n",
              "    <tr>\n",
              "      <th>2</th>\n",
              "      <td>3.0</td>\n",
              "      <td>5</td>\n",
              "    </tr>\n",
              "    <tr>\n",
              "      <th>3</th>\n",
              "      <td>4.0</td>\n",
              "      <td>2</td>\n",
              "    </tr>\n",
              "    <tr>\n",
              "      <th>4</th>\n",
              "      <td>5.0</td>\n",
              "      <td>6</td>\n",
              "    </tr>\n",
              "    <tr>\n",
              "      <th>...</th>\n",
              "      <td>...</td>\n",
              "      <td>...</td>\n",
              "    </tr>\n",
              "    <tr>\n",
              "      <th>138485</th>\n",
              "      <td>138489.0</td>\n",
              "      <td>2</td>\n",
              "    </tr>\n",
              "    <tr>\n",
              "      <th>138486</th>\n",
              "      <td>138490.0</td>\n",
              "      <td>2</td>\n",
              "    </tr>\n",
              "    <tr>\n",
              "      <th>138487</th>\n",
              "      <td>138491.0</td>\n",
              "      <td>0</td>\n",
              "    </tr>\n",
              "    <tr>\n",
              "      <th>138488</th>\n",
              "      <td>138492.0</td>\n",
              "      <td>3</td>\n",
              "    </tr>\n",
              "    <tr>\n",
              "      <th>138489</th>\n",
              "      <td>138493.0</td>\n",
              "      <td>5</td>\n",
              "    </tr>\n",
              "  </tbody>\n",
              "</table>\n",
              "<p>138490 rows × 2 columns</p>\n",
              "</div>"
            ],
            "text/plain": [
              "          userId  movie_count\n",
              "0            1.0            4\n",
              "1            2.0            3\n",
              "2            3.0            5\n",
              "3            4.0            2\n",
              "4            5.0            6\n",
              "...          ...          ...\n",
              "138485  138489.0            2\n",
              "138486  138490.0            2\n",
              "138487  138491.0            0\n",
              "138488  138492.0            3\n",
              "138489  138493.0            5\n",
              "\n",
              "[138490 rows x 2 columns]"
            ]
          },
          "metadata": {
            "tags": []
          },
          "execution_count": 40
        }
      ]
    },
    {
      "cell_type": "code",
      "metadata": {
        "colab": {
          "base_uri": "https://localhost:8080/"
        },
        "id": "tTw2wa9hFVv_",
        "outputId": "b36a8106-a31a-44a8-c143-80552e2bf252"
      },
      "source": [
        "user_movie_count[user_movie_count[\"movie_count\"] == 20].count() ## hedef userın izlediği total film sayısı 20, onunla birebir tüm filmleri izleyen kişi sayısı = 127"
      ],
      "execution_count": 41,
      "outputs": [
        {
          "output_type": "execute_result",
          "data": {
            "text/plain": [
              "userId         127\n",
              "movie_count    127\n",
              "dtype: int64"
            ]
          },
          "metadata": {
            "tags": []
          },
          "execution_count": 41
        }
      ]
    },
    {
      "cell_type": "code",
      "metadata": {
        "id": "ygyhYD4WCEWn"
      },
      "source": [
        "users_same_movies = user_movie_count[user_movie_count[\"movie_count\"] > perc][\"userId\"]\n"
      ],
      "execution_count": 42,
      "outputs": []
    },
    {
      "cell_type": "code",
      "metadata": {
        "colab": {
          "base_uri": "https://localhost:8080/"
        },
        "id": "wOj1t3nxCKAS",
        "outputId": "1e58dd0f-1ed9-41f8-c5f4-8c3149ff3d03"
      },
      "source": [
        "users_same_movies.head() ## %60dan fazla ortak olanlar gelsin \n"
      ],
      "execution_count": 43,
      "outputs": [
        {
          "output_type": "execute_result",
          "data": {
            "text/plain": [
              "0    1.0\n",
              "1    2.0\n",
              "2    3.0\n",
              "3    4.0\n",
              "4    5.0\n",
              "Name: userId, dtype: float64"
            ]
          },
          "metadata": {
            "tags": []
          },
          "execution_count": 43
        }
      ]
    },
    {
      "cell_type": "code",
      "metadata": {
        "colab": {
          "base_uri": "https://localhost:8080/"
        },
        "id": "_JPLOKcpCKGn",
        "outputId": "46633f65-0124-4c21-fe35-127046f48674"
      },
      "source": [
        "users_same_movies.count()"
      ],
      "execution_count": 44,
      "outputs": [
        {
          "output_type": "execute_result",
          "data": {
            "text/plain": [
              "113820"
            ]
          },
          "metadata": {
            "tags": []
          },
          "execution_count": 44
        }
      ]
    },
    {
      "cell_type": "markdown",
      "metadata": {
        "id": "a4n1wmL3HqdY"
      },
      "source": [
        "**Öneri Yapılacak Kullanıcı ile En Benzer Davranışlı Kullanıcıların Belirlenmesi**"
      ]
    },
    {
      "cell_type": "code",
      "metadata": {
        "id": "ssLHHyYyHwA3"
      },
      "source": [
        "final_df = pd.concat([movies_watched_df[movies_watched_df.index.isin(users_same_movies.index)],\n",
        "                      random_user_df[movies_watched]])\n",
        "\n",
        "## aynı filmi izleyen kullanıcıların indexlerini getirdim"
      ],
      "execution_count": 45,
      "outputs": []
    },
    {
      "cell_type": "code",
      "metadata": {
        "colab": {
          "base_uri": "https://localhost:8080/",
          "height": 385
        },
        "id": "Ke0TTSeeIKJn",
        "outputId": "7f83e046-7070-4869-efcc-e15a738e0394"
      },
      "source": [
        "final_df.head()"
      ],
      "execution_count": 46,
      "outputs": [
        {
          "output_type": "execute_result",
          "data": {
            "text/html": [
              "<div>\n",
              "<style scoped>\n",
              "    .dataframe tbody tr th:only-of-type {\n",
              "        vertical-align: middle;\n",
              "    }\n",
              "\n",
              "    .dataframe tbody tr th {\n",
              "        vertical-align: top;\n",
              "    }\n",
              "\n",
              "    .dataframe thead th {\n",
              "        text-align: right;\n",
              "    }\n",
              "</style>\n",
              "<table border=\"1\" class=\"dataframe\">\n",
              "  <thead>\n",
              "    <tr style=\"text-align: right;\">\n",
              "      <th>title</th>\n",
              "      <th>Apocalypse Now (1979)</th>\n",
              "      <th>Batman (1989)</th>\n",
              "      <th>Braveheart (1995)</th>\n",
              "      <th>Bridge on the River Kwai, The (1957)</th>\n",
              "      <th>Butch Cassidy and the Sundance Kid (1969)</th>\n",
              "      <th>Dr. Strangelove or: How I Learned to Stop Worrying and Love the Bomb (1964)</th>\n",
              "      <th>Fatal Attraction (1987)</th>\n",
              "      <th>Gone with the Wind (1939)</th>\n",
              "      <th>It's a Wonderful Life (1946)</th>\n",
              "      <th>Lawrence of Arabia (1962)</th>\n",
              "      <th>Liar Liar (1997)</th>\n",
              "      <th>North by Northwest (1959)</th>\n",
              "      <th>Patriot, The (2000)</th>\n",
              "      <th>Philadelphia (1993)</th>\n",
              "      <th>Pinocchio (1940)</th>\n",
              "      <th>Shawshank Redemption, The (1994)</th>\n",
              "      <th>Silence of the Lambs, The (1991)</th>\n",
              "      <th>Snow White and the Seven Dwarfs (1937)</th>\n",
              "      <th>Sound of Music, The (1965)</th>\n",
              "      <th>Sting, The (1973)</th>\n",
              "    </tr>\n",
              "    <tr>\n",
              "      <th>userId</th>\n",
              "      <th></th>\n",
              "      <th></th>\n",
              "      <th></th>\n",
              "      <th></th>\n",
              "      <th></th>\n",
              "      <th></th>\n",
              "      <th></th>\n",
              "      <th></th>\n",
              "      <th></th>\n",
              "      <th></th>\n",
              "      <th></th>\n",
              "      <th></th>\n",
              "      <th></th>\n",
              "      <th></th>\n",
              "      <th></th>\n",
              "      <th></th>\n",
              "      <th></th>\n",
              "      <th></th>\n",
              "      <th></th>\n",
              "      <th></th>\n",
              "    </tr>\n",
              "  </thead>\n",
              "  <tbody>\n",
              "    <tr>\n",
              "      <th>1.0</th>\n",
              "      <td>3.5</td>\n",
              "      <td>NaN</td>\n",
              "      <td>NaN</td>\n",
              "      <td>NaN</td>\n",
              "      <td>3.0</td>\n",
              "      <td>NaN</td>\n",
              "      <td>NaN</td>\n",
              "      <td>NaN</td>\n",
              "      <td>NaN</td>\n",
              "      <td>NaN</td>\n",
              "      <td>NaN</td>\n",
              "      <td>NaN</td>\n",
              "      <td>NaN</td>\n",
              "      <td>NaN</td>\n",
              "      <td>NaN</td>\n",
              "      <td>4.0</td>\n",
              "      <td>3.5</td>\n",
              "      <td>NaN</td>\n",
              "      <td>NaN</td>\n",
              "      <td>NaN</td>\n",
              "    </tr>\n",
              "    <tr>\n",
              "      <th>2.0</th>\n",
              "      <td>NaN</td>\n",
              "      <td>NaN</td>\n",
              "      <td>4.0</td>\n",
              "      <td>NaN</td>\n",
              "      <td>NaN</td>\n",
              "      <td>NaN</td>\n",
              "      <td>NaN</td>\n",
              "      <td>NaN</td>\n",
              "      <td>NaN</td>\n",
              "      <td>NaN</td>\n",
              "      <td>NaN</td>\n",
              "      <td>4.0</td>\n",
              "      <td>4.0</td>\n",
              "      <td>NaN</td>\n",
              "      <td>NaN</td>\n",
              "      <td>NaN</td>\n",
              "      <td>NaN</td>\n",
              "      <td>NaN</td>\n",
              "      <td>NaN</td>\n",
              "      <td>NaN</td>\n",
              "    </tr>\n",
              "    <tr>\n",
              "      <th>3.0</th>\n",
              "      <td>5.0</td>\n",
              "      <td>NaN</td>\n",
              "      <td>NaN</td>\n",
              "      <td>NaN</td>\n",
              "      <td>5.0</td>\n",
              "      <td>NaN</td>\n",
              "      <td>NaN</td>\n",
              "      <td>NaN</td>\n",
              "      <td>5.0</td>\n",
              "      <td>NaN</td>\n",
              "      <td>NaN</td>\n",
              "      <td>NaN</td>\n",
              "      <td>NaN</td>\n",
              "      <td>NaN</td>\n",
              "      <td>NaN</td>\n",
              "      <td>5.0</td>\n",
              "      <td>5.0</td>\n",
              "      <td>NaN</td>\n",
              "      <td>NaN</td>\n",
              "      <td>NaN</td>\n",
              "    </tr>\n",
              "    <tr>\n",
              "      <th>4.0</th>\n",
              "      <td>NaN</td>\n",
              "      <td>NaN</td>\n",
              "      <td>NaN</td>\n",
              "      <td>NaN</td>\n",
              "      <td>NaN</td>\n",
              "      <td>NaN</td>\n",
              "      <td>NaN</td>\n",
              "      <td>NaN</td>\n",
              "      <td>NaN</td>\n",
              "      <td>NaN</td>\n",
              "      <td>NaN</td>\n",
              "      <td>NaN</td>\n",
              "      <td>NaN</td>\n",
              "      <td>NaN</td>\n",
              "      <td>4.0</td>\n",
              "      <td>NaN</td>\n",
              "      <td>NaN</td>\n",
              "      <td>4.0</td>\n",
              "      <td>NaN</td>\n",
              "      <td>NaN</td>\n",
              "    </tr>\n",
              "    <tr>\n",
              "      <th>6.0</th>\n",
              "      <td>NaN</td>\n",
              "      <td>NaN</td>\n",
              "      <td>NaN</td>\n",
              "      <td>NaN</td>\n",
              "      <td>NaN</td>\n",
              "      <td>NaN</td>\n",
              "      <td>NaN</td>\n",
              "      <td>NaN</td>\n",
              "      <td>NaN</td>\n",
              "      <td>NaN</td>\n",
              "      <td>NaN</td>\n",
              "      <td>NaN</td>\n",
              "      <td>NaN</td>\n",
              "      <td>NaN</td>\n",
              "      <td>NaN</td>\n",
              "      <td>NaN</td>\n",
              "      <td>NaN</td>\n",
              "      <td>NaN</td>\n",
              "      <td>NaN</td>\n",
              "      <td>NaN</td>\n",
              "    </tr>\n",
              "  </tbody>\n",
              "</table>\n",
              "</div>"
            ],
            "text/plain": [
              "title   Apocalypse Now (1979)  Batman (1989)  Braveheart (1995)  \\\n",
              "userId                                                            \n",
              "1.0                       3.5            NaN                NaN   \n",
              "2.0                       NaN            NaN                4.0   \n",
              "3.0                       5.0            NaN                NaN   \n",
              "4.0                       NaN            NaN                NaN   \n",
              "6.0                       NaN            NaN                NaN   \n",
              "\n",
              "title   Bridge on the River Kwai, The (1957)  \\\n",
              "userId                                         \n",
              "1.0                                      NaN   \n",
              "2.0                                      NaN   \n",
              "3.0                                      NaN   \n",
              "4.0                                      NaN   \n",
              "6.0                                      NaN   \n",
              "\n",
              "title   Butch Cassidy and the Sundance Kid (1969)  \\\n",
              "userId                                              \n",
              "1.0                                           3.0   \n",
              "2.0                                           NaN   \n",
              "3.0                                           5.0   \n",
              "4.0                                           NaN   \n",
              "6.0                                           NaN   \n",
              "\n",
              "title   Dr. Strangelove or: How I Learned to Stop Worrying and Love the Bomb (1964)  \\\n",
              "userId                                                                                \n",
              "1.0                                                   NaN                             \n",
              "2.0                                                   NaN                             \n",
              "3.0                                                   NaN                             \n",
              "4.0                                                   NaN                             \n",
              "6.0                                                   NaN                             \n",
              "\n",
              "title   Fatal Attraction (1987)  Gone with the Wind (1939)  \\\n",
              "userId                                                       \n",
              "1.0                         NaN                        NaN   \n",
              "2.0                         NaN                        NaN   \n",
              "3.0                         NaN                        NaN   \n",
              "4.0                         NaN                        NaN   \n",
              "6.0                         NaN                        NaN   \n",
              "\n",
              "title   It's a Wonderful Life (1946)  Lawrence of Arabia (1962)  \\\n",
              "userId                                                            \n",
              "1.0                              NaN                        NaN   \n",
              "2.0                              NaN                        NaN   \n",
              "3.0                              5.0                        NaN   \n",
              "4.0                              NaN                        NaN   \n",
              "6.0                              NaN                        NaN   \n",
              "\n",
              "title   Liar Liar (1997)  North by Northwest (1959)  Patriot, The (2000)  \\\n",
              "userId                                                                     \n",
              "1.0                  NaN                        NaN                  NaN   \n",
              "2.0                  NaN                        4.0                  4.0   \n",
              "3.0                  NaN                        NaN                  NaN   \n",
              "4.0                  NaN                        NaN                  NaN   \n",
              "6.0                  NaN                        NaN                  NaN   \n",
              "\n",
              "title   Philadelphia (1993)  Pinocchio (1940)  \\\n",
              "userId                                          \n",
              "1.0                     NaN               NaN   \n",
              "2.0                     NaN               NaN   \n",
              "3.0                     NaN               NaN   \n",
              "4.0                     NaN               4.0   \n",
              "6.0                     NaN               NaN   \n",
              "\n",
              "title   Shawshank Redemption, The (1994)  Silence of the Lambs, The (1991)  \\\n",
              "userId                                                                       \n",
              "1.0                                  4.0                               3.5   \n",
              "2.0                                  NaN                               NaN   \n",
              "3.0                                  5.0                               5.0   \n",
              "4.0                                  NaN                               NaN   \n",
              "6.0                                  NaN                               NaN   \n",
              "\n",
              "title   Snow White and the Seven Dwarfs (1937)  Sound of Music, The (1965)  \\\n",
              "userId                                                                       \n",
              "1.0                                        NaN                         NaN   \n",
              "2.0                                        NaN                         NaN   \n",
              "3.0                                        NaN                         NaN   \n",
              "4.0                                        4.0                         NaN   \n",
              "6.0                                        NaN                         NaN   \n",
              "\n",
              "title   Sting, The (1973)  \n",
              "userId                     \n",
              "1.0                   NaN  \n",
              "2.0                   NaN  \n",
              "3.0                   NaN  \n",
              "4.0                   NaN  \n",
              "6.0                   NaN  "
            ]
          },
          "metadata": {
            "tags": []
          },
          "execution_count": 46
        }
      ]
    },
    {
      "cell_type": "code",
      "metadata": {
        "colab": {
          "base_uri": "https://localhost:8080/"
        },
        "id": "ALrx9xIpIR77",
        "outputId": "1fa30faf-df7d-47e4-f53e-d4eaf1225600"
      },
      "source": [
        "final_df.shape"
      ],
      "execution_count": 47,
      "outputs": [
        {
          "output_type": "execute_result",
          "data": {
            "text/plain": [
              "(113818, 20)"
            ]
          },
          "metadata": {
            "tags": []
          },
          "execution_count": 47
        }
      ]
    },
    {
      "cell_type": "code",
      "metadata": {
        "id": "ebzvMSn2IUiC"
      },
      "source": [
        "final_df.T.corr()"
      ],
      "execution_count": null,
      "outputs": []
    },
    {
      "cell_type": "code",
      "metadata": {
        "id": "ECrRyD3YKscu"
      },
      "source": [
        "corr_df = final_df.T.corr().unstack().sort_values().drop_duplicates()\n",
        "corr_df = pd.DataFrame(corr_df, columns=[\"corr\"])\n",
        "corr_df.index.names = ['user_id_1', 'user_id_2']\n",
        "corr_df = corr_df.reset_index()\n",
        "\n",
        "\n",
        "# Hedef user ile yüzde 65 ve üzeri korelasyona sahip kullanıcılar:\n",
        "top_users = corr_df[(corr_df[\"user_id_1\"] == random_user) & (corr_df[\"corr\"] >= 0.65)][\n",
        "    [\"user_id_2\", \"corr\"]].reset_index(drop=True)\n",
        "\n",
        "\n",
        "top_users = top_users.sort_values(by='corr', ascending=False)\n",
        "top_users.rename(columns={\"user_id_2\": \"userId\"}, inplace=True)\n",
        "\n",
        "rating = pd.read_csv('datasets/movie_lens_dataset/rating.csv')\n",
        "top_users_ratings = top_users.merge(rating[[\"userId\", \"movieId\", \"rating\"]], how='inner')\n"
      ],
      "execution_count": null,
      "outputs": []
    }
  ]
}